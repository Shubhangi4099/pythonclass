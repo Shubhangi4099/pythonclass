{
 "cells": [
  {
   "cell_type": "markdown",
   "metadata": {},
   "source": [
    "my 1st code in python"
   ]
  },
  {
   "cell_type": "code",
   "execution_count": 3,
   "metadata": {},
   "outputs": [
    {
     "ename": "ModuleNotFoundError",
     "evalue": "No module named 'Numpy'",
     "output_type": "error",
     "traceback": [
      "\u001b[1;31m---------------------------------------------------------------------------\u001b[0m",
      "\u001b[1;31mModuleNotFoundError\u001b[0m                       Traceback (most recent call last)",
      "\u001b[1;32mc:\\notebook\\my notebook.ipynb Cell 2'\u001b[0m in \u001b[0;36m<module>\u001b[1;34m\u001b[0m\n\u001b[1;32m----> <a href='vscode-notebook-cell:/c%3A/notebook/my%20notebook.ipynb#ch0000001?line=0'>1</a>\u001b[0m \u001b[39mimport\u001b[39;00m \u001b[39mNumpy\u001b[39;00m \u001b[39mas\u001b[39;00m \u001b[39mnp\u001b[39;00m\n\u001b[0;32m      <a href='vscode-notebook-cell:/c%3A/notebook/my%20notebook.ipynb#ch0000001?line=1'>2</a>\u001b[0m n1\u001b[39m=\u001b[39mnp\u001b[39m.\u001b[39marray([[\u001b[39m10\u001b[39m,\u001b[39m20\u001b[39m,\u001b[39m60\u001b[39m,\u001b[39m30\u001b[39m],[\u001b[39m10\u001b[39m,\u001b[39m203\u001b[39m,\u001b[39m2050\u001b[39m,\u001b[39m1\u001b[39m]])\n",
      "\u001b[1;31mModuleNotFoundError\u001b[0m: No module named 'Numpy'"
     ]
    }
   ],
   "source": [
    "import numpy as np\n",
    "n1=np.array([[10,20,60,30],[10,203,2050,1]])"
   ]
  },
  {
   "cell_type": "code",
   "execution_count": null,
   "metadata": {},
   "outputs": [],
   "source": [
    "tup1 = (12)\n",
    "tup2 = (15)\n",
    "return(tup1+tup2)\n"
   ]
  }
 ],
 "metadata": {
  "interpreter": {
   "hash": "dd1307c873f6a9e4f825ff1d593b665f5ae20d7ec0c623725193d9d9f5194fc7"
  },
  "kernelspec": {
   "display_name": "Python 3.8.1 32-bit",
   "language": "python",
   "name": "python3"
  },
  "language_info": {
   "codemirror_mode": {
    "name": "ipython",
    "version": 3
   },
   "file_extension": ".py",
   "mimetype": "text/x-python",
   "name": "python",
   "nbconvert_exporter": "python",
   "pygments_lexer": "ipython3",
   "version": "3.8.1"
  },
  "orig_nbformat": 4
 },
 "nbformat": 4,
 "nbformat_minor": 2
}
